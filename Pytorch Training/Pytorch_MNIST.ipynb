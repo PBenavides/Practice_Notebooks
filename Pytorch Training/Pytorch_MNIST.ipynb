{
 "cells": [
  {
   "cell_type": "code",
   "execution_count": 1,
   "metadata": {
    "id": "uyADoevEiWGw"
   },
   "outputs": [],
   "source": [
    "import numpy as np\n",
    "import pandas as pd\n",
    "import matplotlib.pyplot as plt\n",
    "import seaborn as sns\n",
    "from collections import Counter"
   ]
  },
  {
   "cell_type": "code",
   "execution_count": 2,
   "metadata": {
    "id": "98iEMpHhig34"
   },
   "outputs": [],
   "source": [
    "from torch.utils.data import Dataset, DataLoader\n",
    "import torch"
   ]
  },
  {
   "cell_type": "markdown",
   "metadata": {
    "id": "6ziHZPr0irZn"
   },
   "source": [
    "#### Creamos nuestra clase de datos:"
   ]
  },
  {
   "cell_type": "code",
   "execution_count": 3,
   "metadata": {
    "id": "_a2MrbiLiqfG"
   },
   "outputs": [],
   "source": [
    "links_csv = ['https://raw.githubusercontent.com/HackSpacePeru/Datasets_intro_Data_Science/master/train1.csv',\n",
    "'https://raw.githubusercontent.com/HackSpacePeru/Datasets_intro_Data_Science/master/train2.csv',\n",
    "'https://raw.githubusercontent.com/HackSpacePeru/Datasets_intro_Data_Science/master/train3.csv',\n",
    "'https://raw.githubusercontent.com/HackSpacePeru/Datasets_intro_Data_Science/master/train4.csv',]\n",
    "\n",
    "class MNISTDataset(Dataset):\n",
    "  def __init__(self, links_csv, mode='train'):\n",
    "    self.mode = mode #\n",
    "    list_df = [pd.read_csv(link) for link in links_csv]\n",
    "    data = pd.concat(list_df)\n",
    "\n",
    "    \"\"\"\n",
    "    <---------------------------- Preprocesamiento de Datos -------------------------------------->\n",
    "    \"\"\"\n",
    "\n",
    "    if self.mode == 'train':\n",
    "      self.features = data.drop('label',axis=1).values/255.0\n",
    "      self.target = data['label'].values\n",
    "      #Reshaping\n",
    "      self.target = self.target.reshape((-1,1)) #Dejando q se reeshapee solo\n",
    "\n",
    "    else:\n",
    "      self.features = data.values/255.0\n",
    "\n",
    "  def __len__(self):\n",
    "    return len(self.features)\n",
    "\n",
    "  def __getitem__(self, idx):\n",
    "    if self.mode=='train':\n",
    "      feat = torch.Tensor(self.features[idx])\n",
    "      oupt = torch.Tensor(self.target[idx])\n",
    "\n",
    "      return {'features':feat,\n",
    "              'target':oupt,}\n",
    "      \n",
    "    else:\n",
    "      feat = torch.Tensor(self.features[idx])\n",
    "      return {'features':feat}"
   ]
  },
  {
   "cell_type": "code",
   "execution_count": 4,
   "metadata": {},
   "outputs": [
    {
     "ename": "NameError",
     "evalue": "name 'train' is not defined",
     "output_type": "error",
     "traceback": [
      "\u001b[1;31m---------------------------------------------------------------------------\u001b[0m",
      "\u001b[1;31mNameError\u001b[0m                                 Traceback (most recent call last)",
      "\u001b[1;32m<ipython-input-4-522f00c90d2f>\u001b[0m in \u001b[0;36m<module>\u001b[1;34m\u001b[0m\n\u001b[1;32m----> 1\u001b[1;33m \u001b[0mtrain\u001b[0m\u001b[1;33m[\u001b[0m\u001b[1;36m0\u001b[0m\u001b[1;33m]\u001b[0m\u001b[1;33m[\u001b[0m\u001b[1;34m'features'\u001b[0m\u001b[1;33m]\u001b[0m\u001b[1;33m.\u001b[0m\u001b[0mshape\u001b[0m\u001b[1;33m\u001b[0m\u001b[1;33m\u001b[0m\u001b[0m\n\u001b[0m",
      "\u001b[1;31mNameError\u001b[0m: name 'train' is not defined"
     ]
    }
   ],
   "source": [
    "train[0]['features'].shape"
   ]
  },
  {
   "cell_type": "code",
   "execution_count": null,
   "metadata": {
    "id": "XcqLFzS7lW72"
   },
   "outputs": [],
   "source": [
    "test_links = ['https://raw.githubusercontent.com/HackSpacePeru/Datasets_intro_Data_Science/master/test.csv']\n",
    "\n",
    "train = MNISTDataset(links_csv = links_csv, mode='train')\n",
    "test = MNISTDataset(links_csv=test_links, mode='test')"
   ]
  },
  {
   "cell_type": "code",
   "execution_count": null,
   "metadata": {
    "id": "8vfqHtHnpfO3"
   },
   "outputs": [],
   "source": [
    "#Ahora vamos a crear los DataLoades para poder obtener los batchs.\n",
    "\n",
    "train_loader = DataLoader(train, batch_size=64, shuffle = True)\n",
    "test_loader = DataLoader(test, batch_size=64, shuffle =True)"
   ]
  },
  {
   "cell_type": "markdown",
   "metadata": {
    "id": "sELOndA6uSLL"
   },
   "source": [
    "### Modelling MultiLayerPerceptron (MLP)\n",
    "\n",
    "Vamos a ver que primero haremos una clase heredada de la clase nn.Module, y también usaremos super() para poder heredar los atributos de la clase nn.Module. Así tendremos acceso y más flexibilidad para extender esta clase nn.Module. \n",
    "\n",
    "#### Definiendo el modelo:"
   ]
  },
  {
   "cell_type": "code",
   "execution_count": null,
   "metadata": {
    "id": "A9j4SPG8m4Yd"
   },
   "outputs": [],
   "source": [
    "import torch.nn as nn\n",
    "\n",
    "class MLP(nn.Module):\n",
    "  def __init__(self, i, u, v, o):\n",
    "    \"\"\"\n",
    "    Donde i,u,v,o son los números de neuronas de \n",
    "    entrada y salida que tendrá mi red.\n",
    "    \"\"\"\n",
    "    super(MLP, self).__init__()\n",
    "    self.relu_layer = nn.ReLU()\n",
    "    self.dense_1 = nn.Linear(i, u)\n",
    "    self.b1 = nn.BatchNorm1d(20)\n",
    "    self.dense_2 = nn.Linear(u,v)\n",
    "    self.dense_output = nn.Linear(v, o)\n",
    "\n",
    "\n",
    "  def forward(self, x):\n",
    "    x = self.relu_layer(self.dense_1(x)) # activation( Capa )\n",
    "    x = self.b1(x) #Batch Layer\n",
    "    x = self.relu_layer(self.dense_2(x)) # Activation(Capa)\n",
    "\n",
    "    logits = self.dense_output(x)\n",
    "\n",
    "    return logits"
   ]
  },
  {
   "cell_type": "markdown",
   "metadata": {
    "id": "DM0ZolwAxzxU"
   },
   "source": [
    "### Inicializando la red:"
   ]
  },
  {
   "cell_type": "code",
   "execution_count": null,
   "metadata": {},
   "outputs": [],
   "source": [
    "from torch.optim import Adam\n",
    "\n",
    "#Usamos el GPU\n",
    "if torch.cuda.is_available() == True:\n",
    "    device = torch.device('cuda')\n",
    "else:\n",
    "    device = torch.device('cpu')\n",
    "    \n",
    "red_neuronal = MLP(i=784, u = 20, v=20, o = 10).to(device) #Acá puedo definir los layers <- Notar nombre de objeto.\n",
    "\n",
    "optimizer = Adam(params=red_neuronal.parameters(), lr=0.01)\n",
    "print(red_neuronal) #Imprimimos la arquitectura"
   ]
  },
  {
   "cell_type": "code",
   "execution_count": null,
   "metadata": {
    "id": "O0I5hBwAyObV"
   },
   "outputs": [],
   "source": [
    "#Definimos nuestra función de pérdida\n",
    "\n",
    "def accuracy(y_true, y_pred):\n",
    "  y_true = y_true.long().squeeze()\n",
    "  y_pred = torch.argmax(y_pred, axis=1)\n",
    "  return (y_true == y_pred).float().sum()/len(y_true)\n",
    "\n",
    "def cross_entropy_loss(y_true, y_pred):\n",
    "  y_true = y_true.long().squeeze()\n",
    "  return nn.CrossEntropyLoss()(y_pred, y_true)"
   ]
  },
  {
   "cell_type": "markdown",
   "metadata": {
    "id": "cxmuVKtszz3H"
   },
   "source": [
    "### Entrenando"
   ]
  },
  {
   "cell_type": "code",
   "execution_count": null,
   "metadata": {},
   "outputs": [],
   "source": [
    "#Esto también usualmente se pone dentro de una función: training_loop.\n",
    "\n",
    "import time\n",
    "start = time.time()\n",
    "print(\"STARTING TRAINING ...\\n\")\n",
    "\n",
    "train_losses, valid_losses = [], []\n",
    "train_acc, valid_acc = [], []\n",
    "\n",
    "for epoch in range(20): #Definiendo 20 epocas.\n",
    "  red_neuronal = red_neuronal.train()\n",
    "  print(\"Epoch: {}\".format(epoch+1))\n",
    "  batch_train_losses, batch_train_acc = [], []\n",
    "\n",
    "  batch = 0\n",
    "  for train_batch in train_loader: #Objeto DataLoader\n",
    "\n",
    "    train_X, train_y = train_batch.values()\n",
    "\n",
    "    train_X = train_X.to(device)\n",
    "    train_y = train_y.to(device)\n",
    "\n",
    "    train_preds = red_neuronal.forward(train_X)\n",
    "    train_loss = cross_entropy_loss(train_y, train_preds)\n",
    "\n",
    "    train_accuracy = accuracy(train_y, train_preds)\n",
    "\n",
    "    optimizer.zero_grad() # Limpio las gradientes\n",
    "    train_loss.backward() # Hago el calculo de las nuevas gradientes\n",
    "\n",
    "    optimizer.step() #Utilizo estas gradientes para hacer el backpropagation\n",
    "\n",
    "    train_loss = np.round(train_loss.item(), 3)\n",
    "    train_accuracy = np.round(train_accuracy.item(),3)\n",
    "\n",
    "    end = time.time()\n",
    "    batch = batch + 1\n",
    "    log = batch % 10 == 0\n",
    "\n",
    "    time_delta = np.round(end - start, 3)\n",
    "\n",
    "    batch_train_losses.append(train_loss)\n",
    "    batch_train_acc.append(train_accuracy)\n",
    "\n",
    "    logs = \"Batch: {} || Train Loss: {} || Train Acc: {} || Time: {} s\"\n",
    "    \n",
    "    if log:\n",
    "        print(logs.format(batch, train_loss, train_accuracy, time_delta))\n",
    "\n",
    "  #Hasta acá solo hemos entrenado. Aún no evaluamos con respecto al test. \n",
    "\n",
    "  train_losses.append(np.mean(batch_train_losses))\n",
    "  train_acc.append(np.mean(batch_train_acc))"
   ]
  },
  {
   "cell_type": "markdown",
   "metadata": {
    "colab": {
     "base_uri": "https://localhost:8080/"
    },
    "id": "ZmUb8zsj4jF-",
    "outputId": "e7298ecd-cac7-4438-a230-3ca714ef33a9"
   },
   "source": [
    "### Guardamos el modelo.\n",
    "\n",
    "Esto lo podemos hacer de dos formas:\n",
    "\n",
    "    - Serializando: Que implica guardalos como un objeto pickle y abrir también con ello.\n",
    "    \n",
    "    - Guardando solo el state_dict: Que es guardar los parámetros del modelo e importar\n",
    "        todos estos junto con la arquitectura sola del modelo. En este caso estamos optando guardar también el estado del optimizador.\n",
    "        \n",
    "        Guardar el estado del optimizador es útil pues podemos reentrenar la red luego. "
   ]
  },
  {
   "cell_type": "code",
   "execution_count": null,
   "metadata": {},
   "outputs": [],
   "source": [
    "state_dict = {\n",
    "    'epoch':epoch,\n",
    "    'state_dict': red_neuronal.state_dict(),\n",
    "    'optimizer': optimizer.state_dict()\n",
    "}\n",
    "\n",
    "torch.save(state_dict, 'mnist_model_state_dict.pt')"
   ]
  }
 ],
 "metadata": {
  "accelerator": "GPU",
  "colab": {
   "name": "Pytorch MNIST.ipynb",
   "provenance": []
  },
  "kernelspec": {
   "display_name": "Python 3",
   "language": "python",
   "name": "python3"
  },
  "language_info": {
   "codemirror_mode": {
    "name": "ipython",
    "version": 3
   },
   "file_extension": ".py",
   "mimetype": "text/x-python",
   "name": "python",
   "nbconvert_exporter": "python",
   "pygments_lexer": "ipython3",
   "version": "3.8.5"
  }
 },
 "nbformat": 4,
 "nbformat_minor": 4
}
