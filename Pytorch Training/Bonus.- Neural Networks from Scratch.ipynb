{
 "cells": [
  {
   "cell_type": "markdown",
   "metadata": {},
   "source": [
    "#### We will make a Neural network class with Numpy and Pytorch. They'll have the same logic since we will only use vector functions."
   ]
  },
  {
   "cell_type": "code",
   "execution_count": 14,
   "metadata": {},
   "outputs": [],
   "source": [
    "import torch\n",
    "import numpy as np"
   ]
  },
  {
   "cell_type": "code",
   "execution_count": 8,
   "metadata": {},
   "outputs": [],
   "source": [
    "#Base Class.\n",
    "\n",
    "class layer:\n",
    "    \"\"\"\n",
    "    Esta clase me ayuda a definir una base para crear luego un layer lineal.\n",
    "    Ampliaremos sus métodos cuando complejizemos la red.\n",
    "    \"\"\"\n",
    "    def __init__(self, node_dim):\n",
    "        \"\"\"\n",
    "        Esto será llamado a través de super() con el número de nodos como argumento\n",
    "        \"\"\"\n",
    "        self.input = np.zeros(node_dim)\n",
    "        self.input_grad = np.zeros(node_dim)\n",
    "        self.params = False\n",
    "        \n",
    "    def forward(self, x):\n",
    "        self.input = x\n",
    "        \n",
    "    def backward(self):\n",
    "        pass\n",
    "    \n",
    "    def parameters(self):\n",
    "        pass\n",
    "    \n",
    "    def zero_grad(self):\n",
    "        self.input_grad.fill(0.)\n",
    "\n",
    "class linearlayer(layer):\n",
    "    \"\"\"\n",
    "    Esta clase me ayudará a crear los layers lineales que necesite.\n",
    "    Heredaremos los métodos y parámetros de la anterior clase\n",
    "    --------------------------------------------------------------------\n",
    "    Params:\n",
    "    in_dim: Dimensiones de input.\n",
    "    node_dim: Dimensiones del output, los nodos siguientes en la red.\n",
    "    \n",
    "    \"\"\"\n",
    "    def __init__(self, in_dim, node_dim, bias=True):\n",
    "        super(linearlayer, self).__init__(node_dim)\n",
    "        \n",
    "        self.out = np.zeros(node_dim)\n",
    "        self.weights = np.random.randn(in_dim, node_dim)\n",
    "        \n",
    "        if bias:\n",
    "            self.bias = np.zeros(in_dim)\n",
    "            \n",
    "    def forward(self, x):\n",
    "        \"\"\"\n",
    "        To calculate the weights and biases.\n",
    "        \"\"\"\n",
    "        self.input = x\n",
    "        out = np.dot(self.weights, x)\n",
    "        \n",
    "        if self.bias:\n",
    "            out += self.bias\n",
    "        return out \n",
    "    "
   ]
  },
  {
   "cell_type": "code",
   "execution_count": 15,
   "metadata": {},
   "outputs": [
    {
     "data": {
      "text/plain": [
       "array([[ 0.90164231, -0.90159679,  0.58267443],\n",
       "       [ 0.26101256,  0.09477704, -0.14864917],\n",
       "       [-0.38638345,  0.71443712,  0.496558  ],\n",
       "       [ 0.03901656,  0.40061836,  1.04114271],\n",
       "       [-1.44631761, -1.07224799,  1.4510507 ]])"
      ]
     },
     "execution_count": 15,
     "metadata": {},
     "output_type": "execute_result"
    }
   ],
   "source": [
    "linearlayer(in_dim = 5, node_dim = 3).weights"
   ]
  }
 ],
 "metadata": {
  "kernelspec": {
   "display_name": "Python 3",
   "language": "python",
   "name": "python3"
  },
  "language_info": {
   "codemirror_mode": {
    "name": "ipython",
    "version": 3
   },
   "file_extension": ".py",
   "mimetype": "text/x-python",
   "name": "python",
   "nbconvert_exporter": "python",
   "pygments_lexer": "ipython3",
   "version": "3.8.5"
  }
 },
 "nbformat": 4,
 "nbformat_minor": 4
}
