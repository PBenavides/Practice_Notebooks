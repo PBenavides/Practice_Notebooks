{
 "cells": [
  {
   "cell_type": "markdown",
   "metadata": {
    "id": "K1nUqTh6DdFN"
   },
   "source": [
    "## Pytorch"
   ]
  },
  {
   "cell_type": "code",
   "execution_count": 7,
   "metadata": {
    "id": "Ed8okps1Coo1"
   },
   "outputs": [],
   "source": [
    "import torch\n",
    "\n",
    "#Si tenemos GPU\n",
    "if torch.cuda.is_available() == True:\n",
    "    #activamos el GPU\n",
    "    device = torch.device('cuda')\n",
    "else:\n",
    "    #Sino usamos la CPU\n",
    "    device = torch.device('cpu')"
   ]
  },
  {
   "cell_type": "markdown",
   "metadata": {},
   "source": [
    "##### ¿Qué son los tensores?\n",
    "\n",
    "Son como los arrays en Pytorch con la diferencia importante de que con Pytorch podemos hacer el procesamiento en un GPU. Es decir, todos los vectores pueden ser procesados paralelamente para ciertas operaciones."
   ]
  },
  {
   "cell_type": "code",
   "execution_count": 8,
   "metadata": {},
   "outputs": [
    {
     "name": "stdout",
     "output_type": "stream",
     "text": [
      "tensor([3.3234e-09, 2.5642e-09, 2.1354e+20, 3.2686e+21, 1.7661e-04])\n"
     ]
    }
   ],
   "source": [
    "#Crear un tensor con 5 número aleatorios. Nota que los números no son exactamente cero\n",
    "x = torch.empty(5)\n",
    "print(x)"
   ]
  },
  {
   "cell_type": "code",
   "execution_count": 3,
   "metadata": {
    "colab": {
     "base_uri": "https://localhost:8080/"
    },
    "id": "Nb_LqGIRD5Kn",
    "outputId": "b19a3fd9-a457-4e13-c8a6-39103e14f33a"
   },
   "outputs": [
    {
     "name": "stdout",
     "output_type": "stream",
     "text": [
      "tensor([1, 2])\n",
      "tensor([[0., 0.]])\n",
      "tensor([[1., 1.]])\n"
     ]
    }
   ],
   "source": [
    "#Crear un tensor que contenga dos números fijos como elemntos\n",
    "x = torch.tensor([1,2])\n",
    "print(x)\n",
    "#Crear un tensor de dimensiones (1,2) lleno de ceros e instanciarlos\n",
    "x = torch.zeros((1,2))\n",
    "print(x)\n",
    "#Crear un tensor lleno de unos\n",
    "x = torch.ones([1,2])\n",
    "print(x)"
   ]
  },
  {
   "cell_type": "code",
   "execution_count": 4,
   "metadata": {
    "colab": {
     "base_uri": "https://localhost:8080/"
    },
    "id": "V1cvEDqJEQXj",
    "outputId": "b58aa00b-f73b-4a98-8784-e90a9d61ac00"
   },
   "outputs": [
    {
     "name": "stdout",
     "output_type": "stream",
     "text": [
      "tensor([1, 2, 3, 4, 5, 6, 7])\n",
      "tensor([ 3.0000,  4.7500,  6.5000,  8.2500, 10.0000])\n",
      "tensor([0.2733, 0.7949, 0.5308, 0.6289, 0.3981])\n",
      "tensor(0.2733) - tensor(0.7949)\n"
     ]
    }
   ],
   "source": [
    " #Crear tensores que estén dentro de un rango específico\n",
    " x = torch.arange(start=1, end=8)\n",
    " print(x)\n",
    " #Recuerdas para qué sirve el linspace de NumPy? Acá también puedes hacer algo parecido:\n",
    " x = torch.linspace(start=3, end=10, steps=5)\n",
    " print(x)\n",
    " #Podemos también generar un tensor con números randoms.\n",
    " x = torch.rand(5)\n",
    " print(x)\n",
    " #Halla un valor minimo y un valor máximo del tensor random q generaste, luego imprimelo.\n",
    " minimun_val = x.min()\n",
    " maximun_val = x.max()\n",
    " print(minimun_val, '-', maximun_val)"
   ]
  },
  {
   "cell_type": "code",
   "execution_count": 5,
   "metadata": {
    "colab": {
     "base_uri": "https://localhost:8080/"
    },
    "id": "aLCkBbipFP3P",
    "outputId": "65ab2338-d4f7-4d16-9c71-039e50b18b05"
   },
   "outputs": [
    {
     "name": "stdout",
     "output_type": "stream",
     "text": [
      "torch.Size([3, 3, 4])\n",
      "tensor([ 1,  2,  3,  4,  5,  6,  7,  8,  0,  1,  2,  3,  9, 10, 11, 12, 13, 14,\n",
      "        15, 16,  0,  1,  2,  3, 17, 18, 19, 20, 21, 22, 23, 24,  0,  1,  2,  3])\n"
     ]
    }
   ],
   "source": [
    "#Definamos un tensor:\n",
    "\n",
    "tensor_inicial = torch.tensor(\n",
    "[\n",
    "    [\n",
    "        [ 1,  2,  3,  4],\n",
    "        [ 5,  6,  7,  8],\n",
    "        [ 0,  1,  2,  3]\n",
    "    ]\n",
    "    ,\n",
    "    [\n",
    "        [ 9, 10, 11, 12],\n",
    "        [13, 14, 15, 16],\n",
    "        [ 0,  1,  2,  3]\n",
    "    ]\n",
    "    ,\n",
    "    [\n",
    "        [17, 18, 19, 20],\n",
    "        [21, 22, 23, 24],\n",
    "        [ 0,  1,  2,  3]\n",
    "    ]\n",
    "])\n",
    "print(tensor_inicial.shape)\n",
    "\n",
    "#Linearizamos un tensor (Flatten)\n",
    "flatten_tensor = tensor_inicial.flatten()\n",
    "print(flatten_tensor)"
   ]
  },
  {
   "cell_type": "code",
   "execution_count": 6,
   "metadata": {
    "colab": {
     "base_uri": "https://localhost:8080/"
    },
    "id": "0CziCC_sFQDQ",
    "outputId": "44aba8a5-3083-4239-c259-d3bbedc89fcc"
   },
   "outputs": [
    {
     "name": "stdout",
     "output_type": "stream",
     "text": [
      "[1, 2, 3, 4, 5, 6, 7, 8, 0, 1, 2, 3, 9, 10, 11, 12, 13, 14, 15, 16, 0, 1, 2, 3, 17, 18, 19, 20, 21, 22, 23, 24, 0, 1, 2, 3]\n",
      "[[[1, 2, 3, 4], [5, 6, 7, 8], [0, 1, 2, 3]], [[9, 10, 11, 12], [13, 14, 15, 16], [0, 1, 2, 3]], [[17, 18, 19, 20], [21, 22, 23, 24], [0, 1, 2, 3]]]\n"
     ]
    }
   ],
   "source": [
    "#Convertir un tensor de pytorch a una lista.\n",
    "listed_tensor = flatten_tensor.tolist()\n",
    "print(listed_tensor)\n",
    "listed_inicial = tensor_inicial.tolist()\n",
    "print(listed_inicial)\n",
    "\n",
    "#Nota que cuando conviertes un tensor a lista, conserva sus dimensiones..."
   ]
  },
  {
   "cell_type": "markdown",
   "metadata": {
    "id": "FbeOxcV-FQdt"
   },
   "source": [
    "#### Conceptos de Álgebra Lineal"
   ]
  },
  {
   "cell_type": "code",
   "execution_count": 7,
   "metadata": {
    "colab": {
     "base_uri": "https://localhost:8080/"
    },
    "id": "aJrMWVziJNmN",
    "outputId": "51fd5e6b-7f60-4b47-945c-169e9fb42d40"
   },
   "outputs": [
    {
     "name": "stdout",
     "output_type": "stream",
     "text": [
      "A: tensor([0.2422, 0.0792, 0.5317, 0.8457, 0.0506])\n",
      "B: tensor([0.2444, 0.0731, 0.7967, 0.5902, 0.3859])\n",
      "Dot_prod = 1.007243275642395\n"
     ]
    }
   ],
   "source": [
    "#Producto punto:\n",
    "A = torch.rand((5))\n",
    "B = torch.rand((5))\n",
    "dot_prod = A.dot(B)\n",
    "\n",
    "print('A: {}\\nB: {}'.format(A,B))\n",
    "print('Dot_prod = {}'.format(dot_prod))"
   ]
  },
  {
   "cell_type": "code",
   "execution_count": 8,
   "metadata": {
    "colab": {
     "base_uri": "https://localhost:8080/"
    },
    "id": "33f2l4UZKv4y",
    "outputId": "ad6c3dd1-9f14-48ab-c518-3ccd7c94d23a"
   },
   "outputs": [
    {
     "name": "stdout",
     "output_type": "stream",
     "text": [
      "tensor([0.2422, 0.0792, 0.5317, 0.8457, 0.0506])\n",
      "tensor([0.2444, 0.0731, 0.7967, 0.5902, 0.3859])\n",
      "tensor([True, True, True, True, True])\n",
      "tensor(True)\n"
     ]
    }
   ],
   "source": [
    "#Matrices transpuestas:\n",
    "A_t = torch.transpose(A,0,-1)\n",
    "B_t = torch.transpose(B,0,-1) #Qué son los números de dim???¿?¿?¿?\n",
    "\n",
    "print(A_t)\n",
    "print(B_t)\n",
    "\n",
    "#Probando las propiedades.\n",
    "#Primera propiedad\n",
    "statement = ((A_t + B_t) == torch.transpose((A+B), 0, -1))\n",
    "print(statement)\n",
    "\n",
    "#Segunda propiedad\n",
    "statement = (torch.transpose(A.matmul(B), 0, -1) == B_t.matmul(A_t))\n",
    "print(statement)"
   ]
  },
  {
   "cell_type": "code",
   "execution_count": 9,
   "metadata": {
    "colab": {
     "base_uri": "https://localhost:8080/"
    },
    "id": "3opEBxghVZhg",
    "outputId": "aa8e205e-fed7-44fb-841f-15d60c836de6"
   },
   "outputs": [
    {
     "name": "stdout",
     "output_type": "stream",
     "text": [
      "tensor([[0.0598, 0.0336, 0.3828],\n",
      "        [0.6235, 0.2057, 0.5529],\n",
      "        [0.1874, 0.3649, 0.0189],\n",
      "        [0.2874, 0.9396, 0.9503],\n",
      "        [0.5933, 0.2090, 0.6205]])\n",
      "tensor([[0.4780, 0.2188, 0.7512, 0.6178, 0.3653],\n",
      "        [0.1003, 0.4335, 0.2254, 0.1176, 0.2519],\n",
      "        [0.8364, 0.3298, 0.5603, 0.1808, 0.6449]])\n",
      "tensor([[0.3521, 0.1539, 0.2670, 0.1101, 0.2772],\n",
      "        [0.7812, 0.4080, 0.8246, 0.5094, 0.6362],\n",
      "        [0.1420, 0.2055, 0.2336, 0.1621, 0.1726],\n",
      "        [1.0264, 0.7836, 0.9601, 0.4598, 0.9545],\n",
      "        [0.8235, 0.4250, 0.8404, 0.5033, 0.6695]])\n"
     ]
    }
   ],
   "source": [
    "#Multiplicación de matrices: Con matmul.\n",
    "A = torch.rand((5,3))\n",
    "B = torch.rand((3,5))\n",
    "print(A)\n",
    "print(B)\n",
    "print(A.matmul(B))"
   ]
  },
  {
   "cell_type": "markdown",
   "metadata": {
    "id": "4RbVcWlLW6fl"
   },
   "source": [
    "#### DETERMINANTES:"
   ]
  },
  {
   "cell_type": "code",
   "execution_count": 10,
   "metadata": {
    "colab": {
     "base_uri": "https://localhost:8080/"
    },
    "id": "XAvlLFrnW2O8",
    "outputId": "65623194-5063-453e-f614-c239bd3642b6"
   },
   "outputs": [
    {
     "name": "stdout",
     "output_type": "stream",
     "text": [
      "tensor([[0.6205, 0.5321],\n",
      "        [0.9398, 0.5245]])\n",
      "Det: -0.17465323209762573\n",
      "Traza: 1.1450276374816895\n"
     ]
    }
   ],
   "source": [
    "#Determinante\n",
    "tensor = torch.rand((2,2))\n",
    "print(tensor)\n",
    "print(\"Det: {}\".format(tensor.det()))\n",
    "#traza\n",
    "print(\"Traza: {}\".format(torch.trace(tensor)))"
   ]
  },
  {
   "cell_type": "markdown",
   "metadata": {
    "id": "eHI5Jg9y3AcO"
   },
   "source": [
    "### Autovectores"
   ]
  },
  {
   "cell_type": "code",
   "execution_count": 11,
   "metadata": {
    "colab": {
     "base_uri": "https://localhost:8080/"
    },
    "id": "5EJ9u5LAW8tl",
    "outputId": "9cbb80fc-1e4a-4d2d-a6af-19bfceba84d0"
   },
   "outputs": [
    {
     "name": "stdout",
     "output_type": "stream",
     "text": [
      "Eigen vectors:  torch.return_types.eig(\n",
      "eigenvalues=tensor([[ 1.2813,  0.0000],\n",
      "        [-0.1363,  0.0000]]),\n",
      "eigenvectors=tensor([[ 0.6272, -0.5752],\n",
      "        [ 0.7788,  0.8180]]))\n"
     ]
    }
   ],
   "source": [
    "print(\"Eigen vectors: \" ,tensor.eig(eigenvectors=True))"
   ]
  },
  {
   "cell_type": "markdown",
   "metadata": {
    "id": "6taVaXzbLn0G"
   },
   "source": [
    "## Descenso de la Gradiente con Pytorch: "
   ]
  },
  {
   "cell_type": "code",
   "execution_count": 39,
   "metadata": {
    "colab": {
     "base_uri": "https://localhost:8080/",
     "height": 282
    },
    "id": "hemAz_QBLuAW",
    "outputId": "b3f9f76e-e5ae-4963-e07d-71d3b2a1d79a"
   },
   "outputs": [
    {
     "data": {
      "text/plain": [
       "<matplotlib.collections.PathCollection at 0x7f253e58d150>"
      ]
     },
     "execution_count": 39,
     "metadata": {
      "tags": []
     },
     "output_type": "execute_result"
    },
    {
     "data": {
      "image/png": "[encoded data removed]",
      "text/plain": [
       "<Figure size 432x288 with 1 Axes>"
      ]
     },
     "metadata": {
      "needs_background": "light",
      "tags": []
     },
     "output_type": "display_data"
    }
   ],
   "source": [
    "#Generamos arrays que sean lineales de manera proporcional, pero a su vez random.\n",
    "import matplotlib.pyplot as plt\n",
    "\n",
    "#t_c = [0.5, 14.0, 15.0, 28.0, 11.0, 8.0, 3.0, -4.0, 6.0, 13.0, 21.0]\n",
    "#t_u = [35.7, 55.9, 58.2, 81.9, 56.3, 48.9, 33.9, 21.8, 48.4, 60.4, 68.4]\n",
    "\n",
    "X = torch.tensor(t_c)\n",
    "Y = torch.tensor(t_u)\n",
    "\n",
    "X = torch.rand(500)\n",
    "Y = X*0.25 + torch.randint(low=0, high=100, size=(500,))/1000\n",
    "\n",
    "\n",
    "plt.scatter(X, Y)"
   ]
  },
  {
   "cell_type": "code",
   "execution_count": 40,
   "metadata": {
    "colab": {
     "base_uri": "https://localhost:8080/"
    },
    "id": "xfP9zoOmRsuQ",
    "outputId": "b9588fcd-15f8-4a6f-806a-7ec38655c446"
   },
   "outputs": [
    {
     "name": "stdout",
     "output_type": "stream",
     "text": [
      "El Loss es:  tensor(0.1587)\n"
     ]
    }
   ],
   "source": [
    "#Asumirmeos que a partir de ahora solo tenemos los datos, así que describiremos la forma de nuestro modelo.\n",
    "#En una función, para poder luego minimizar los errores.\n",
    "\n",
    "def model(X, w, b):\n",
    "  \"\"\"\n",
    "  Tenemos un modelo lineal simple.\n",
    "  \"\"\"\n",
    "  return X*w + b\n",
    "\n",
    "#Definimos la funcion de pérdida como el clásico error medio al cuadrado (MSE)\n",
    "\n",
    "def funcion_perdida(preds,Y):\n",
    "  \"\"\"\n",
    "  Donde Y son los valores reales y preds las predicciones.\n",
    "  \"\"\"\n",
    "  squared_diffs = (preds - Y)**2\n",
    "  return squared_diffs.mean()\n",
    "\n",
    "#Ahora, debemos inicializar el modelo. Recuerda que vamos a inferir los pesos (w)\n",
    "\n",
    "w = torch.ones(())\n",
    "b = torch.zeros(())\n",
    "\n",
    "preds = model(X, w, b)\n",
    "#Ahora chequeamos el valor del error.\n",
    "loss = funcion_perdida(preds, Y)\n",
    "print(\"El Loss es: \",loss)"
   ]
  },
  {
   "cell_type": "code",
   "execution_count": 41,
   "metadata": {
    "id": "Ox0kOZGaTm4d"
   },
   "outputs": [],
   "source": [
    "#Necesitamos la derivada de nuestra funcion de perdida:\n",
    "def deriv_loss(preds,Y):\n",
    "  dsq_diffs = 2 * (preds - Y) / preds.size(0)\n",
    "  return dsq_diffs\n",
    "\n",
    "def deriv_w_model(X, w, b):\n",
    "  \n",
    "  return X\n",
    "\n",
    "def deriv_b_model(X, w, b):\n",
    "  #Porque es de grado 1.\n",
    "  return 1.0\n",
    "\n",
    "def funcion_gradiente(X,Y,preds, w, b):\n",
    "  \"\"\"\n",
    "  La funcion que va a retornoar la gradiente de l loss con respecto a w y b.\n",
    "  Recuerda que la gradiente no es más que las derivadas de la F(Coste) con respecto\n",
    "  a w y b respectivamente.\n",
    "\n",
    "  Recuerda también que sumamos todas las derivadas al final. \n",
    "  \"\"\"\n",
    "  dloss_dtp = deriv_loss(preds, Y)\n",
    "  dloss_dw = dloss_dtp * deriv_w_model(X,w,b)\n",
    "  dloss_db = dloss_dtp * deriv_b_model(X,w,b)\n",
    "  return torch.stack([dloss_dw.sum(), dloss_db.sum()])"
   ]
  },
  {
   "cell_type": "code",
   "execution_count": 42,
   "metadata": {
    "id": "Q4oJ-YG-T3vO"
   },
   "outputs": [],
   "source": [
    "def training_loop(n_epochs, learning_rate, params, X, Y):\n",
    "  \"\"\"\n",
    "  Función para poder entrenar los parámetros junto con el descenso de la gradiente\n",
    "  \"\"\"\n",
    "  for epoch in range(1, n_epochs + 1):\n",
    "    w, b = params\n",
    "    preds= model(X,w,b)     #M(forward pass) Predigo\n",
    "    loss = funcion_perdida(preds,Y) #calculo el loss\n",
    "\n",
    "    grad = funcion_gradiente(X, Y, preds, w, b)  #Barward pass (Calculo las gradientes de los errores)\n",
    "\n",
    "    params = params - learning_rate * grad #Según formula, actualizo parámetros según gradiente.\n",
    "    print('Epoca %d, Loss %f' % (epoch, float(loss)))\n",
    "\n",
    "  return params"
   ]
  },
  {
   "cell_type": "code",
   "execution_count": 43,
   "metadata": {
    "colab": {
     "base_uri": "https://localhost:8080/"
    },
    "id": "PdtuNj8PYpfk",
    "outputId": "0e490c9c-aae2-42c8-cfba-5b776b8db775"
   },
   "outputs": [
    {
     "name": "stdout",
     "output_type": "stream",
     "text": [
      "Epoca 1, Loss 0.158682\n",
      "Epoca 2, Loss 0.152162\n",
      "Epoca 3, Loss 0.145967\n",
      "Epoca 4, Loss 0.140081\n",
      "Epoca 5, Loss 0.134490\n",
      "Epoca 6, Loss 0.129177\n",
      "Epoca 7, Loss 0.124128\n",
      "Epoca 8, Loss 0.119331\n",
      "Epoca 9, Loss 0.114773\n",
      "Epoca 10, Loss 0.110442\n",
      "Epoca 11, Loss 0.106325\n",
      "Epoca 12, Loss 0.102413\n",
      "Epoca 13, Loss 0.098695\n",
      "Epoca 14, Loss 0.095161\n",
      "Epoca 15, Loss 0.091802\n",
      "Epoca 16, Loss 0.088609\n",
      "Epoca 17, Loss 0.085574\n",
      "Epoca 18, Loss 0.082689\n",
      "Epoca 19, Loss 0.079946\n",
      "Epoca 20, Loss 0.077337\n",
      "Epoca 21, Loss 0.074857\n",
      "Epoca 22, Loss 0.072499\n",
      "Epoca 23, Loss 0.070256\n",
      "Epoca 24, Loss 0.068123\n",
      "Epoca 25, Loss 0.066095\n",
      "Epoca 26, Loss 0.064165\n",
      "Epoca 27, Loss 0.062329\n",
      "Epoca 28, Loss 0.060582\n",
      "Epoca 29, Loss 0.058921\n",
      "Epoca 30, Loss 0.057339\n",
      "Epoca 31, Loss 0.055834\n",
      "Epoca 32, Loss 0.054402\n",
      "Epoca 33, Loss 0.053038\n",
      "Epoca 34, Loss 0.051740\n",
      "Epoca 35, Loss 0.050504\n",
      "Epoca 36, Loss 0.049327\n",
      "Epoca 37, Loss 0.048206\n",
      "Epoca 38, Loss 0.047138\n",
      "Epoca 39, Loss 0.046121\n",
      "Epoca 40, Loss 0.045151\n",
      "Epoca 41, Loss 0.044228\n",
      "Epoca 42, Loss 0.043347\n",
      "Epoca 43, Loss 0.042508\n",
      "Epoca 44, Loss 0.041707\n",
      "Epoca 45, Loss 0.040944\n",
      "Epoca 46, Loss 0.040216\n",
      "Epoca 47, Loss 0.039521\n",
      "Epoca 48, Loss 0.038858\n",
      "Epoca 49, Loss 0.038225\n",
      "Epoca 50, Loss 0.037621\n",
      "Epoca 51, Loss 0.037044\n",
      "Epoca 52, Loss 0.036493\n",
      "Epoca 53, Loss 0.035966\n",
      "Epoca 54, Loss 0.035463\n",
      "Epoca 55, Loss 0.034982\n",
      "Epoca 56, Loss 0.034521\n",
      "Epoca 57, Loss 0.034081\n",
      "Epoca 58, Loss 0.033660\n",
      "Epoca 59, Loss 0.033257\n",
      "Epoca 60, Loss 0.032871\n",
      "Epoca 61, Loss 0.032501\n",
      "Epoca 62, Loss 0.032146\n",
      "Epoca 63, Loss 0.031807\n",
      "Epoca 64, Loss 0.031481\n",
      "Epoca 65, Loss 0.031168\n",
      "Epoca 66, Loss 0.030868\n",
      "Epoca 67, Loss 0.030580\n",
      "Epoca 68, Loss 0.030304\n",
      "Epoca 69, Loss 0.030038\n",
      "Epoca 70, Loss 0.029782\n",
      "Epoca 71, Loss 0.029537\n",
      "Epoca 72, Loss 0.029300\n",
      "Epoca 73, Loss 0.029072\n",
      "Epoca 74, Loss 0.028853\n",
      "Epoca 75, Loss 0.028641\n",
      "Epoca 76, Loss 0.028438\n",
      "Epoca 77, Loss 0.028241\n",
      "Epoca 78, Loss 0.028051\n",
      "Epoca 79, Loss 0.027868\n",
      "Epoca 80, Loss 0.027690\n",
      "Epoca 81, Loss 0.027519\n",
      "Epoca 82, Loss 0.027353\n",
      "Epoca 83, Loss 0.027193\n",
      "Epoca 84, Loss 0.027037\n",
      "Epoca 85, Loss 0.026887\n",
      "Epoca 86, Loss 0.026741\n",
      "Epoca 87, Loss 0.026599\n",
      "Epoca 88, Loss 0.026461\n",
      "Epoca 89, Loss 0.026328\n",
      "Epoca 90, Loss 0.026198\n",
      "Epoca 91, Loss 0.026072\n",
      "Epoca 92, Loss 0.025949\n",
      "Epoca 93, Loss 0.025829\n",
      "Epoca 94, Loss 0.025712\n",
      "Epoca 95, Loss 0.025598\n",
      "Epoca 96, Loss 0.025488\n",
      "Epoca 97, Loss 0.025379\n",
      "Epoca 98, Loss 0.025273\n",
      "Epoca 99, Loss 0.025170\n",
      "Epoca 100, Loss 0.025069\n"
     ]
    },
    {
     "data": {
      "text/plain": [
       "tensor([ 0.7868, -0.2162])"
      ]
     },
     "execution_count": 43,
     "metadata": {
      "tags": []
     },
     "output_type": "execute_result"
    }
   ],
   "source": [
    "#Recuerda que tenemos instanciados nuestros parámetros X e Y.\n",
    "\n",
    "training_loop(n_epochs = 100, \n",
    "              learning_rate = 1e-2,\n",
    "              params = torch.tensor([1.0,0.0]),\n",
    "              X = X,\n",
    "              Y = Y)"
   ]
  },
  {
   "cell_type": "markdown",
   "metadata": {
    "id": "DYPVCsb-ZVUG"
   },
   "source": [
    "### Manejando dimensiones-\n",
    "\n",
    "Tenemos que vamos a usar bastante estos tipos de tensores (con estas dimensiones).\n",
    "Donde n_channels representa las capas que tiene una imagen que en su mayoría son 3 para los 3 canales de coloeres q existen (RGB).\n",
    "\n",
    "```\n",
    "torch.rand(batch_size, n_channels, n_x, n_y)\n",
    "```"
   ]
  },
  {
   "cell_type": "code",
   "execution_count": 11,
   "metadata": {},
   "outputs": [],
   "source": [
    "tensor = torch.rand(10,3,128,128)"
   ]
  },
  {
   "cell_type": "code",
   "execution_count": 16,
   "metadata": {},
   "outputs": [],
   "source": [
    "#Esto es para poder redondear en un rango (X,Y): tensor.clip(X,Y)\n",
    "clipped_tensor = tensor.clip(0.2,0.8)\n",
    "clipped_tensor"
   ]
  }
 ],
 "metadata": {
  "colab": {
   "name": "Pytorch - Introducción.ipynb",
   "provenance": []
  },
  "kernelspec": {
   "display_name": "Python 3",
   "language": "python",
   "name": "python3"
  },
  "language_info": {
   "codemirror_mode": {
    "name": "ipython",
    "version": 3
   },
   "file_extension": ".py",
   "mimetype": "text/x-python",
   "name": "python",
   "nbconvert_exporter": "python",
   "pygments_lexer": "ipython3",
   "version": "3.8.5"
  }
 },
 "nbformat": 4,
 "nbformat_minor": 4
}
